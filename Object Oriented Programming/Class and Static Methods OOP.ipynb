{
 "nbformat": 4,
 "nbformat_minor": 0,
 "metadata": {
  "colab": {
   "name": "Class and Static Methods OOP.ipynb",
   "provenance": []
  },
  "kernelspec": {
   "name": "python3",
   "display_name": "Python 3"
  },
  "language_info": {
   "name": "python"
  }
 },
 "cells": [
  {
   "cell_type": "markdown",
   "source": [
    "# Class variable"
   ],
   "metadata": {
    "collapsed": false
   }
  },
  {
   "cell_type": "code",
   "execution_count": null,
   "outputs": [],
   "source": [
    "class Students:\n",
    "    #Class variable\n",
    "    college_name = \"Rajalakashmi\"\n",
    "    def __init__(self,name,age=12):\n",
    "        self.name = name\n",
    "        self.age = age\n",
    "\n",
    "    def message(self):\n",
    "        print(self.name ,self.age)\n",
    "\n",
    "students1 = Students(\"Kumar\",19)\n",
    "students2 = Students(\"Tony Stark\",20)\n",
    "students3 =  Students(\"Bala\",20)\n",
    "\n",
    "students1.message()\n",
    "print(students1.college_name)\n",
    "students2.message()\n",
    "print(students2.college_name)\n",
    "students3.message()\n",
    "print(students3.college_name)"
   ],
   "metadata": {
    "collapsed": false,
    "pycharm": {
     "name": "#%%\n"
    }
   }
  },
  {
   "cell_type": "markdown",
   "source": [
    "# Class method and Static method"
   ],
   "metadata": {
    "collapsed": false
   }
  },
  {
   "cell_type": "code",
   "execution_count": null,
   "outputs": [],
   "source": [
    "class Students:\n",
    "    counter = 0\n",
    "    def __init__(self,name: str,marks: int):\n",
    "        self.name = name\n",
    "        self.marks = marks\n",
    "        Students.counter += 1\n",
    "\n",
    "    def msg(self):\n",
    "        print(f\"{self.name} Have Marks {self.marks}% Got\")\n",
    "\n",
    "    @classmethod\n",
    "    def object_count(cls):\n",
    "        return cls.count\n",
    "\n",
    "students1 = Students(\"Tony Stark\",100)\n",
    "students2 = Students(\"Bruce Banner\",98)\n",
    "students3 = Students(\"Steve Rogers\",25)\n",
    "students4 = Students(\"Thor Odionson\",3)\n",
    "\n",
    "students1.msg()\n",
    "students2.msg()\n",
    "students3.msg()\n",
    "students4.msg()\n",
    "\n",
    "#This method is called by both calss method and object name\n",
    "print(Students.counter)\n",
    "print(students1.counter)"
   ],
   "metadata": {
    "collapsed": false,
    "pycharm": {
     "name": "#%%\n"
    }
   }
  },
  {
   "cell_type": "markdown",
   "source": [
    "# To Give a Marks to find a percentage"
   ],
   "metadata": {
    "collapsed": false
   }
  },
  {
   "cell_type": "code",
   "execution_count": null,
   "outputs": [],
   "source": [
    "class Students:\n",
    "    def __init__(self,name: str,marks: int):\n",
    "        self.name = name\n",
    "        self.marks = marks\n",
    "\n",
    "    def msg(self):\n",
    "        print(f\"{self.name} Have Marks {self.marks}% Got\")\n",
    "\n",
    "students1 = Students(\"Tony Stark\",100)\n",
    "marks = 587\n",
    "name = \"RTX Saker\"\n",
    "mark_percent = int((marks/600)*100)\n",
    "students2  = Students(name,mark_percent)\n",
    "\n",
    "students1.msg()\n",
    "students2.msg()"
   ],
   "metadata": {
    "collapsed": false,
    "pycharm": {
     "name": "#%%\n"
    }
   }
  },
  {
   "cell_type": "markdown",
   "source": [
    "# To Give a Marks to find a percentage using the classmethod and using a Static Method"
   ],
   "metadata": {
    "collapsed": false
   }
  },
  {
   "cell_type": "code",
   "execution_count": null,
   "outputs": [],
   "source": [
    "class Students:\n",
    "    def __init__(self,name: str,marks: int):\n",
    "        self.name = name\n",
    "        self.marks = marks\n",
    "\n",
    "    def msg(self):\n",
    "        print(f\"{self.name} Have Marks {self.marks}% Got\")\n",
    "\n",
    "    @classmethod\n",
    "    def get_persentage(cls,name: str,marks: int):\n",
    "        return cls(name,(marks / 600)*100)\n",
    "\n",
    "    #there is no class,self just parameters is enough\n",
    "    @staticmethod\n",
    "    def get_age(age: int):\n",
    "        if age >= 17:\n",
    "            print(\"below 17\")\n",
    "        else:\n",
    "            print(\"This students is not study in school\")\n",
    "\n",
    "students1 = Students(\"Tony Stark\",100)\n",
    "students2  = Students.get_persentage(\"RTX Saker\",587)\n",
    "\n",
    "students1.msg()\n",
    "students2.msg()\n",
    "\n",
    "Students.get_age(16)\n",
    "#can access by using object\n",
    "students1.get_age(18)"
   ],
   "metadata": {
    "collapsed": false,
    "pycharm": {
     "name": "#%%\n"
    }
   }
  },
  {
   "cell_type": "markdown",
   "source": [
    "# Detail Classmethod"
   ],
   "metadata": {
    "collapsed": false
   }
  },
  {
   "cell_type": "code",
   "source": [
    "import csv\n",
    "class Item:\n",
    "    #after pay 20% discount\n",
    "    pay_rate = 0.8\n",
    "    all = []\n",
    "\n",
    "    def __init__(self, name: str, price: int,quantity = 0):\n",
    "        assert price > 0, f\"Price {price} is not greater than or equal to zero\"\n",
    "        assert quantity > 0, f\"Quantity {quantity} is not greater than or equal to zero\"\n",
    "\n",
    "        #assign  to self object in method\n",
    "        self.name = name\n",
    "        self.price = price\n",
    "        self.quantity = quantity\n",
    "\n",
    "        #The name of the object is append in all list\n",
    "        Item.all.append(self)\n",
    "\n",
    "    def totalprice(self):\n",
    "        return self.price*self.quantity\n",
    "\n",
    "    def discount(self):\n",
    "        self.price = self.price*self.pay_rate*self.quantity\n",
    "\n",
    "    @classmethod\n",
    "    def instance_from_csv(cls):\n",
    "        with open('Class and Static Methods OOP.csv', 'r') as f:\n",
    "            reader = csv.DictReader(f)\n",
    "            items = list(reader)\n",
    "        for item in items :\n",
    "            Item(\n",
    "                    name = item.get('name'),\n",
    "                    price = int(item.get('price')),\n",
    "                    quantity= int(item.get('quantity'))\n",
    "            )\n",
    "\n",
    "    def __repr__(self):\n",
    "        return f\"Item('{self.name}',{self.price},{self.quantity})\"\n",
    "\n",
    "#using class method is always be passed the Item to first argument\n",
    "Item.instance_from_csv()\n",
    "print(Item.all)"
   ],
   "metadata": {
    "id": "9j3lw_oEgmtf",
    "colab": {
     "base_uri": "https://localhost:8080/"
    },
    "outputId": "46121834-e2dc-4c7e-9e2a-acb4abfd44ec",
    "pycharm": {
     "name": "#%%\n"
    }
   },
   "execution_count": 1,
   "outputs": [
    {
     "name": "stdout",
     "output_type": "stream",
     "text": [
      "[Item('mouse pad',10,4), Item('teddies',3,10), Item('perfume',15,2), Item('USB drive',12,5), Item('piano',4000,1)]\n"
     ]
    }
   ]
  },
  {
   "cell_type": "markdown",
   "source": [
    "# Detail Staticmethod"
   ],
   "metadata": {
    "collapsed": false
   }
  },
  {
   "cell_type": "code",
   "execution_count": 5,
   "outputs": [
    {
     "name": "stdout",
     "output_type": "stream",
     "text": [
      "True\n"
     ]
    }
   ],
   "source": [
    "import csv\n",
    "\n",
    "class Item:\n",
    "    #after pay 20% discount\n",
    "    pay_rate = 0.8\n",
    "    all = []\n",
    "\n",
    "    def __init__(self, name: str, price: int,quantity = 0):\n",
    "        assert price > 0, f\"Price {price} is not greater than or equal to zero\"\n",
    "        assert quantity > 0, f\"Quantity {quantity} is not greater than or equal to zero\"\n",
    "\n",
    "        #assign  to self object in method\n",
    "        self.name = name\n",
    "        self.price = price\n",
    "        self.quantity = quantity\n",
    "\n",
    "        #The name of the object is append in all list\n",
    "        Item.all.append(self)\n",
    "\n",
    "    def totalprice(self):\n",
    "        return self.price*self.quantity\n",
    "\n",
    "    def discount(self):\n",
    "        self.price = self.price*self.pay_rate*self.quantity\n",
    "\n",
    "    @classmethod\n",
    "    def instance_from_csv(cls):\n",
    "        with open('Class and Static Methods OOP.csv', 'r') as f:\n",
    "            reader = csv.DictReader(f)\n",
    "            items = list(reader)\n",
    "        for item in items :\n",
    "            Item(\n",
    "                    name = item.get('name'),\n",
    "                    price = float(item.get('price')),\n",
    "                    quantity= int(item.get('quantity'))\n",
    "            )\n",
    "    # We will count the floats that are point zero\n",
    "     # For i.e: 5.0, 10.0\n",
    "    @staticmethod\n",
    "    def is_integer(num):\n",
    "        if isinstance(num, float):\n",
    "            #count out the float that are point zero\n",
    "            return num.is_integer()\n",
    "        elif isinstance(num, int):\n",
    "            return True\n",
    "        else:\n",
    "            return False\n",
    "\n",
    "    def __repr__(self):\n",
    "        return f\"Item('{self.name}',{self.price},{self.quantity})\"\n",
    "\n",
    "print(Item.is_integer(7.0))"
   ],
   "metadata": {
    "collapsed": false,
    "pycharm": {
     "name": "#%%\n"
    }
   }
  },
  {
   "cell_type": "markdown",
   "source": [
    "# When to use class method and  when to use static methods ?......"
   ],
   "metadata": {
    "collapsed": false
   }
  },
  {
   "cell_type": "code",
   "execution_count": null,
   "outputs": [],
   "source": [
    " class Item:\n",
    "    @staticmethod\n",
    "    def is_integer(num):\n",
    "        pass\n",
    "        '''\n",
    "        This is Should do something that has a relationship\n",
    "        with the class but not something that must be unique\n",
    "        per instance !\n",
    "        '''\n",
    "    @classmethod\n",
    "    def instantiate_from_something(cls):\n",
    "        pass\n",
    "         '''\n",
    "         This Should also do something that has a relationship\n",
    "         with the class, but usually, those are used to manipulate the\n",
    "         different structures of data to instantiate objects, like\n",
    "         we have done with CSV\n",
    "            '''"
   ],
   "metadata": {
    "collapsed": false,
    "pycharm": {
     "name": "#%%\n"
    }
   }
  }
 ]
}