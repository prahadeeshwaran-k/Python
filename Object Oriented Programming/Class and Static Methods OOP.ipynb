{
 "nbformat": 4,
 "nbformat_minor": 0,
 "metadata": {
  "colab": {
   "name": "Class and Static Methods OOP.ipynb",
   "provenance": []
  },
  "kernelspec": {
   "name": "python3",
   "display_name": "Python 3"
  },
  "language_info": {
   "name": "python"
  }
 },
 "cells": [
  {
   "cell_type": "code",
   "source": [
    "import pandas as pd\n",
    "import csv\n",
    "with open(\"Class and Static Methods OOP.csv\")\n",
    "\n",
    "\n",
    "df = pd.read_csv(path)\n",
    "df.describe"
   ],
   "metadata": {
    "colab": {
     "base_uri": "https://localhost:8080/"
    },
    "id": "A7J8_JisgM_i",
    "outputId": "f4a852dd-81d5-4861-c322-285a5852296a"
   },
   "execution_count": 2,
   "outputs": [
    {
     "ename": "SyntaxError",
     "evalue": "(unicode error) 'unicodeescape' codec can't decode bytes in position 2-3: truncated \\UXXXXXXXX escape (Temp/ipykernel_17480/1098189370.py, line 6)",
     "output_type": "error",
     "traceback": [
      "\u001B[1;36m  File \u001B[1;32m\"C:\\Users\\praha\\AppData\\Local\\Temp/ipykernel_17480/1098189370.py\"\u001B[1;36m, line \u001B[1;32m6\u001B[0m\n\u001B[1;33m    path = \"C:\\Users\\praha\\PycharmProjects\\Python\\Object Oriented Programming\\Class and Static Methods OOP.csv\"\u001B[0m\n\u001B[1;37m                                                                                                               ^\u001B[0m\n\u001B[1;31mSyntaxError\u001B[0m\u001B[1;31m:\u001B[0m (unicode error) 'unicodeescape' codec can't decode bytes in position 2-3: truncated \\UXXXXXXXX escape\n"
     ]
    }
   ]
  },
  {
   "cell_type": "code",
   "source": [
    "\n",
    "import pandas as pd\n",
    "path = \"/content/drive/MyDrive/Colab Notebooks/Colab CSV/items.csv\"\n",
    "df = pd.read_csv(path)\n",
    "df.describe\n",
    "\n",
    "import csv\n",
    "class Item:\n",
    "    #after pay 20% discount \n",
    "    pay_rate = 0.8 \n",
    "    all = []\n",
    "\n",
    "    def __init__(self, name: str, price: int,quantity = 0):\n",
    "        assert price > 0, f\"Price {price} is not greater than or equal to zero\"\n",
    "        assert quantity > 0, f\"Quantity {quantity} is not greater than or equal to zero\"\n",
    "        \n",
    "        #assign  to self object in method\n",
    "        self.name = name\n",
    "        self.price = price\n",
    "        self.quantity = quantity\n",
    "\n",
    "        #The name of the object is append in all list\n",
    "        Item.all.append(self)\n",
    "    \n",
    "    def totalprice(self):\n",
    "        return self.price*self.quantity\n",
    "\n",
    "    def discount(self):\n",
    "        self.price = self.price*self.pay_rate*self.quantity\n",
    "\n",
    "    @classmethod\n",
    "    def instance_from_csv(cls):\n",
    "        with open('items.csv', 'r') as f:\n",
    "            reader = csv.DictReader(f)\n",
    "            items = list(reader)\n",
    "        \n",
    "        for item in items :\n",
    "            print(item)\n",
    "\n",
    "    def __repr__(self):\n",
    "        return f\"Item('{self.name}',{self.price},{self.quantity})\"\n",
    "\n",
    "#using classmethod is alwaya be passed the Item to first argument \n",
    "Item.instance_from_csv()\n",
    "print(Item.all)"
   ],
   "metadata": {
    "id": "9j3lw_oEgmtf",
    "colab": {
     "base_uri": "https://localhost:8080/"
    },
    "outputId": "46121834-e2dc-4c7e-9e2a-acb4abfd44ec",
    "pycharm": {
     "name": "#%%\n"
    }
   },
   "execution_count": null,
   "outputs": [
    {
     "output_type": "stream",
     "name": "stdout",
     "text": [
      "Drive already mounted at /content/drive; to attempt to forcibly remount, call drive.mount(\"/content/drive\", force_remount=True).\n",
      "OrderedDict([('name', 'mouse pad'), ('price', '10'), ('quantity', '4')])\n",
      "OrderedDict([('name', 'teddies'), ('price', '3'), ('quantity', '10')])\n",
      "OrderedDict([('name', 'perfume'), ('price', '15'), ('quantity', '2')])\n",
      "OrderedDict([('name', 'USB drive'), ('price', '12'), ('quantity', '5')])\n",
      "OrderedDict([('name', 'piano'), ('price', '4000'), ('quantity', '1')])\n",
      "[]\n"
     ]
    }
   ]
  }
 ]
}