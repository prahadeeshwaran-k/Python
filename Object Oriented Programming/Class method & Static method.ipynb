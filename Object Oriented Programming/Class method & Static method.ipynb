{
 "cells": [
  {
   "cell_type": "markdown",
   "source": [
    "# Class Variable Example"
   ],
   "metadata": {
    "collapsed": false
   }
  },
  {
   "cell_type": "code",
   "execution_count": 2,
   "outputs": [
    {
     "name": "stdout",
     "output_type": "stream",
     "text": [
      "Kumar 19\n",
      "Rajalakashmi\n",
      "Tony Stark 20\n",
      "Rajalakashmi\n",
      "Bala 20\n",
      "Rajalakashmi\n"
     ]
    }
   ],
   "source": [
    "class Students:\n",
    "    #Class variable\n",
    "    college_name = \"Rajalakashmi\"\n",
    "    def __init__(self,name,age=12):\n",
    "        self.name = name\n",
    "        self.age = age\n",
    "    def message(self):\n",
    "        print(self.name ,self.age)\n",
    "\n",
    "students1 = Students(\"Kumar\",19)\n",
    "students2 = Students(\"Tony Stark\",20)\n",
    "students3 =  Students(\"Bala\",20)\n",
    "\n",
    "students1.message()\n",
    "print(students1.college_name)\n",
    "students2.message()\n",
    "print(students2.college_name)\n",
    "students3.message()\n",
    "print(students3.college_name)\n"
   ],
   "metadata": {
    "collapsed": false,
    "pycharm": {
     "name": "#%%\n"
    }
   }
  },
  {
   "cell_type": "markdown",
   "source": [
    "# Class method and Static method"
   ],
   "metadata": {
    "collapsed": false
   }
  },
  {
   "cell_type": "code",
   "execution_count": 10,
   "outputs": [
    {
     "name": "stdout",
     "output_type": "stream",
     "text": [
      "Tony Stark Have 100 Marks\n",
      "Bruce Banner Have 98 Marks\n",
      "Steve Rogers Have 25 Marks\n",
      "Thor Odionson Have 3 Marks\n",
      "4\n"
     ]
    }
   ],
   "source": [
    "class Students:\n",
    "    counter = 0\n",
    "    def __init__(self,name: str,marks: int):\n",
    "        self.name = name\n",
    "        self.marks = marks\n",
    "        Students.counter += 1\n",
    "    def msg(self):\n",
    "        print(f\"{self.name} Have {self.marks} Marks\")\n",
    "\n",
    "students1 = Students(\"Tony Stark\",100)\n",
    "students2 = Students(\"Bruce Banner\",98)\n",
    "students3 = Students(\"Steve Rogers\",25)\n",
    "students4 = Students(\"Thor Odionson\",3)\n",
    "\n",
    "students1.msg()\n",
    "students2.msg()\n",
    "students3.msg()\n",
    "students4.msg()\n",
    "\n",
    "print(Students.counter)"
   ],
   "metadata": {
    "collapsed": false,
    "pycharm": {
     "name": "#%%\n"
    }
   }
  },
  {
   "cell_type": "code",
   "execution_count": null,
   "outputs": [],
   "source": [],
   "metadata": {
    "collapsed": false,
    "pycharm": {
     "name": "#%%\n"
    }
   }
  }
 ],
 "metadata": {
  "kernelspec": {
   "display_name": "Python 3",
   "language": "python",
   "name": "python3"
  },
  "language_info": {
   "codemirror_mode": {
    "name": "ipython",
    "version": 2
   },
   "file_extension": ".py",
   "mimetype": "text/x-python",
   "name": "python",
   "nbconvert_exporter": "python",
   "pygments_lexer": "ipython2",
   "version": "2.7.6"
  }
 },
 "nbformat": 4,
 "nbformat_minor": 0
}