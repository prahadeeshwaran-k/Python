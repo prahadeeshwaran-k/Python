{
 "cells": [
  {
   "cell_type": "markdown",
   "source": [
    "# Class method and Static method"
   ],
   "metadata": {
    "collapsed": false
   }
  },
  {
   "cell_type": "code",
   "execution_count": 15,
   "outputs": [
    {
     "name": "stdout",
     "output_type": "stream",
     "text": [
      "Kumar 19\n",
      "Tony Stark 20\n",
      "Bala 20\n"
     ]
    }
   ],
   "source": [
    "class Students:\n",
    "    def __init__(self,name,age=12):\n",
    "        self.name = name\n",
    "        self.age = age\n",
    "    def message(self):\n",
    "        print(self.name ,self.age)\n",
    "\n",
    "students1 = Students(\"Kumar\",19)\n",
    "students2 = Students(\"Tony Stark\",20)\n",
    "students3 =  Students(\"Bala\",20)\n",
    "\n",
    "students1.message()\n",
    "students2.message()\n",
    "students3.message()\n"
   ],
   "metadata": {
    "collapsed": false,
    "pycharm": {
     "name": "#%%\n"
    }
   }
  },
  {
   "cell_type": "code",
   "execution_count": null,
   "outputs": [],
   "source": [],
   "metadata": {
    "collapsed": false,
    "pycharm": {
     "name": "#%%\n"
    }
   }
  }
 ],
 "metadata": {
  "kernelspec": {
   "display_name": "Python 3",
   "language": "python",
   "name": "python3"
  },
  "language_info": {
   "codemirror_mode": {
    "name": "ipython",
    "version": 2
   },
   "file_extension": ".py",
   "mimetype": "text/x-python",
   "name": "python",
   "nbconvert_exporter": "python",
   "pygments_lexer": "ipython2",
   "version": "2.7.6"
  }
 },
 "nbformat": 4,
 "nbformat_minor": 0
}