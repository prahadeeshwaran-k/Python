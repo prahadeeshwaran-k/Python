{
 "cells": [
  {
   "cell_type": "markdown",
   "source": [
    "# Class Variable Example"
   ],
   "metadata": {
    "collapsed": false
   }
  },
  {
   "cell_type": "code",
   "execution_count": 2,
   "outputs": [
    {
     "name": "stdout",
     "output_type": "stream",
     "text": [
      "Kumar 19\n",
      "Rajalakashmi\n",
      "Tony Stark 20\n",
      "Rajalakashmi\n",
      "Bala 20\n",
      "Rajalakashmi\n"
     ]
    }
   ],
   "source": [
    "class Students:\n",
    "    #Class variable\n",
    "    college_name = \"Rajalakashmi\"\n",
    "    def __init__(self,name,age=12):\n",
    "        self.name = name\n",
    "        self.age = age\n",
    "\n",
    "    def message(self):\n",
    "        print(self.name ,self.age)\n",
    "\n",
    "students1 = Students(\"Kumar\",19)\n",
    "students2 = Students(\"Tony Stark\",20)\n",
    "students3 =  Students(\"Bala\",20)\n",
    "\n",
    "students1.message()\n",
    "print(students1.college_name)\n",
    "students2.message()\n",
    "print(students2.college_name)\n",
    "students3.message()\n",
    "print(students3.college_name)"
   ],
   "metadata": {
    "collapsed": false,
    "pycharm": {
     "name": "#%%\n"
    }
   }
  },
  {
   "cell_type": "markdown",
   "source": [
    "# Class method and Static method"
   ],
   "metadata": {
    "collapsed": false
   }
  },
  {
   "cell_type": "code",
   "source": [
    "class Students:\n",
    "    counter = 0\n",
    "    def __init__(self,name: str,marks: int):\n",
    "        self.name = name\n",
    "        self.marks = marks\n",
    "        Students.counter += 1\n",
    "\n",
    "    def msg(self):\n",
    "        print(f\"{self.name} Have Marks {self.marks}% Got\")\n",
    "\n",
    "    @classmethod\n",
    "    def object_count(cls):\n",
    "        return cls.count\n",
    "\n",
    "students1 = Students(\"Tony Stark\",100)\n",
    "students2 = Students(\"Bruce Banner\",98)\n",
    "students3 = Students(\"Steve Rogers\",25)\n",
    "students4 = Students(\"Thor Odionson\",3)\n",
    "\n",
    "students1.msg()\n",
    "students2.msg()\n",
    "students3.msg()\n",
    "students4.msg()\n",
    "\n",
    "#This method is called by both calss method and object name\n",
    "print(Students.counter)\n",
    "print(students1.counter)"
   ],
   "metadata": {
    "collapsed": false,
    "pycharm": {
     "name": "#%%\n"
    }
   },
   "execution_count": 1,
   "outputs": [
    {
     "name": "stdout",
     "output_type": "stream",
     "text": [
      "Tony Stark Have Marks 100% Got\n",
      "Bruce Banner Have Marks 98% Got\n",
      "Steve Rogers Have Marks 25% Got\n",
      "Thor Odionson Have Marks 3% Got\n",
      "4\n",
      "4\n"
     ]
    }
   ]
  },
  {
   "cell_type": "markdown",
   "source": [
    "# To Give a Marks to find a percentage"
   ],
   "metadata": {
    "collapsed": false
   }
  },
  {
   "cell_type": "code",
   "execution_count": 9,
   "outputs": [
    {
     "name": "stdout",
     "output_type": "stream",
     "text": [
      "Tony Stark Have Marks 100% Got\n",
      "RTX Saker Have Marks 97% Got\n"
     ]
    }
   ],
   "source": [
    "class Students:\n",
    "    def __init__(self,name: str,marks: int):\n",
    "        self.name = name\n",
    "        self.marks = marks\n",
    "\n",
    "    def msg(self):\n",
    "        print(f\"{self.name} Have Marks {self.marks}% Got\")\n",
    "\n",
    "students1 = Students(\"Tony Stark\",100)\n",
    "marks = 587\n",
    "name = \"RTX Saker\"\n",
    "mark_percent = int((marks/600)*100)\n",
    "students2  = Students(name,mark_percent)\n",
    "\n",
    "students1.msg()\n",
    "students2.msg()"
   ],
   "metadata": {
    "collapsed": false,
    "pycharm": {
     "name": "#%%\n"
    }
   }
  },
  {
   "cell_type": "markdown",
   "source": [
    "# To Give a Marks to find a percentage using the classmethod and using a Static Method"
   ],
   "metadata": {
    "collapsed": false
   }
  },
  {
   "cell_type": "code",
   "execution_count": 25,
   "outputs": [
    {
     "name": "stdout",
     "output_type": "stream",
     "text": [
      "Tony Stark Have Marks 100% Got\n",
      "RTX Saker Have Marks 97.83333333333334% Got\n",
      "This students is not study in school\n",
      "below 17\n"
     ]
    }
   ],
   "source": [
    "class Students:\n",
    "    def __init__(self,name: str,marks: int):\n",
    "        self.name = name\n",
    "        self.marks = marks\n",
    "\n",
    "    def msg(self):\n",
    "        print(f\"{self.name} Have Marks {self.marks}% Got\")\n",
    "\n",
    "    @classmethod\n",
    "    def get_persentage(cls,name: str,marks: int):\n",
    "        return cls(name,(marks / 600)*100)\n",
    "\n",
    "    #there is no class,self just parameters is enough\n",
    "    @staticmethod\n",
    "    def get_age(age: int):\n",
    "        if age >= 17:\n",
    "            print(\"below 17\")\n",
    "        else:\n",
    "            print(\"This students is not study in school\")\n",
    "\n",
    "students1 = Students(\"Tony Stark\",100)\n",
    "students2  = Students.get_persentage(\"RTX Saker\",587)\n",
    "\n",
    "students1.msg()\n",
    "students2.msg()\n",
    "\n",
    "Students.get_age(16)\n",
    "#can access by using object\n",
    "students1.get_age(18)"
   ],
   "metadata": {
    "collapsed": false,
    "pycharm": {
     "name": "#%%\n"
    }
   }
  },
  {
   "cell_type": "code",
   "execution_count": null,
   "outputs": [],
   "source": [],
   "metadata": {
    "collapsed": false,
    "pycharm": {
     "name": "#%%\n"
    }
   }
  }
 ],
 "metadata": {
  "kernelspec": {
   "display_name": "Python 3",
   "language": "python",
   "name": "python3"
  },
  "language_info": {
   "codemirror_mode": {
    "name": "ipython",
    "version": 2
   },
   "file_extension": ".py",
   "mimetype": "text/x-python",
   "name": "python",
   "nbconvert_exporter": "python",
   "pygments_lexer": "ipython2",
   "version": "2.7.6"
  }
 },
 "nbformat": 4,
 "nbformat_minor": 0
}