{
 "nbformat": 4,
 "nbformat_minor": 0,
 "metadata": {
  "colab": {
   "name": "Class and Static Methods OOP.ipynb",
   "provenance": []
  },
  "kernelspec": {
   "name": "python3",
   "display_name": "Python 3"
  },
  "language_info": {
   "name": "python"
  }
 },
 "cells": [
  {
   "cell_type": "code",
   "source": [
    "import csv\n",
    "class Item:\n",
    "    #after pay 20% discount\n",
    "    pay_rate = 0.8\n",
    "    all = []\n",
    "\n",
    "    def __init__(self, name: str, price: int,quantity = 0):\n",
    "        assert price > 0, f\"Price {price} is not greater than or equal to zero\"\n",
    "        assert quantity > 0, f\"Quantity {quantity} is not greater than or equal to zero\"\n",
    "\n",
    "        #assign  to self object in method\n",
    "        self.name = name\n",
    "        self.price = price\n",
    "        self.quantity = quantity\n",
    "\n",
    "        #The name of the object is append in all list\n",
    "        Item.all.append(self)\n",
    "\n",
    "    def totalprice(self):\n",
    "        return self.price*self.quantity\n",
    "\n",
    "    def discount(self):\n",
    "        self.price = self.price*self.pay_rate*self.quantity\n",
    "\n",
    "    @classmethod\n",
    "    def instance_from_csv(cls):\n",
    "        with open('Class and Static Methods OOP.csv', 'r') as f:\n",
    "            reader = csv.DictReader(f)\n",
    "            items = list(reader)\n",
    "        for item in items :\n",
    "            Item(\n",
    "                    name = item.get('name'),\n",
    "                    price = int(item.get('price')),\n",
    "                    quantity= int(item.get('quantity'))\n",
    "            )\n",
    "\n",
    "    def __repr__(self):\n",
    "        return f\"Item('{self.name}',{self.price},{self.quantity})\"\n",
    "\n",
    "#using class method is always be passed the Item to first argument\n",
    "Item.instance_from_csv()\n",
    "print(Item.all)"
   ],
   "metadata": {
    "id": "9j3lw_oEgmtf",
    "colab": {
     "base_uri": "https://localhost:8080/"
    },
    "outputId": "46121834-e2dc-4c7e-9e2a-acb4abfd44ec",
    "pycharm": {
     "name": "#%%\n"
    }
   },
   "execution_count": 1,
   "outputs": [
    {
     "name": "stdout",
     "output_type": "stream",
     "text": [
      "[Item('mouse pad',10,4), Item('teddies',3,10), Item('perfume',15,2), Item('USB drive',12,5), Item('piano',4000,1)]\n"
     ]
    }
   ]
  },
  {
   "cell_type": "code",
   "execution_count": null,
   "outputs": [],
   "source": [
    "import csv\n",
    "\n",
    "class Item:\n",
    "    #after pay 20% discount\n",
    "    pay_rate = 0.8\n",
    "    all = []\n",
    "\n",
    "    def __init__(self, name: str, price: int,quantity = 0):\n",
    "        assert price > 0, f\"Price {price} is not greater than or equal to zero\"\n",
    "        assert quantity > 0, f\"Quantity {quantity} is not greater than or equal to zero\"\n",
    "\n",
    "        #assign  to self object in method\n",
    "        self.name = name\n",
    "        self.price = price\n",
    "        self.quantity = quantity\n",
    "\n",
    "        #The name of the object is append in all list\n",
    "        Item.all.append(self)\n",
    "\n",
    "    def totalprice(self):\n",
    "        return self.price*self.quantity\n",
    "\n",
    "    def discount(self):\n",
    "        self.price = self.price*self.pay_rate*self.quantity\n",
    "\n",
    "    @classmethod\n",
    "    def instance_from_csv(cls):\n",
    "        with open('Class and Static Methods OOP.csv', 'r') as f:\n",
    "            reader = csv.DictReader(f)\n",
    "            items = list(reader)\n",
    "        for item in items :\n",
    "            Item(\n",
    "                    name = item.get('name'),\n",
    "                    price = int(item.get('price')),\n",
    "                    quantity= int(item.get('quantity'))\n",
    "            )\n",
    "    @staticmethod\n",
    "    def is_integer(num):\n",
    "        # We will count the floats that are point zero\n",
    "        # For i.e: 5.0, 10.0\n",
    "\n",
    "    def __repr__(self):\n",
    "        return f\"Item('{self.name}',{self.price},{self.quantity})\"\n",
    "\n",
    "#using class method is always be passed the Item to first argument\n",
    "Item.instance_from_csv()\n",
    "print(Item.all)"
   ],
   "metadata": {
    "collapsed": false,
    "pycharm": {
     "name": "#%%\n"
    }
   }
  }
 ]
}